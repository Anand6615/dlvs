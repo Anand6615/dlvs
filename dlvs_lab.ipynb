{
 "cells": [
  {
   "cell_type": "markdown",
   "metadata": {},
   "source": []
  },
  {
   "cell_type": "code",
   "execution_count": 1,
   "metadata": {},
   "outputs": [],
   "source": [
    "import seaborn as sns\n",
    "import pandas as pd\n",
    "import numpy as np\n",
    "from sklearn.model_selection import train_test_split\n",
    "\n"
   ]
  },
  {
   "cell_type": "code",
   "execution_count": 2,
   "metadata": {},
   "outputs": [],
   "source": [
    "df = sns.load_dataset(\"iris\")\n",
    "\n"
   ]
  },
  {
   "cell_type": "code",
   "execution_count": 3,
   "metadata": {},
   "outputs": [],
   "source": [
    "new_df = df[[\"sepal_length\", \"sepal_width\", \"species\"]].iloc[50:]\n",
    "new_df = new_df.reset_index(drop=True)"
   ]
  },
  {
   "cell_type": "code",
   "execution_count": 4,
   "metadata": {},
   "outputs": [
    {
     "data": {
      "text/plain": [
       "<Axes: xlabel='sepal_length', ylabel='sepal_width'>"
      ]
     },
     "execution_count": 4,
     "metadata": {},
     "output_type": "execute_result"
    },
    {
     "data": {
      "image/png": "[encoded data removed]",
      "text/plain": [
       "<Figure size 640x480 with 1 Axes>"
      ]
     },
     "metadata": {},
     "output_type": "display_data"
    }
   ],
   "source": [
    "sns.scatterplot(data=new_df, x=\"sepal_length\", y=\"sepal_width\")"
   ]
  },
  {
   "cell_type": "code",
   "execution_count": 5,
   "metadata": {},
   "outputs": [
    {
     "data": {
      "text/html": [
       "<div>\n",
       "<style scoped>\n",
       "    .dataframe tbody tr th:only-of-type {\n",
       "        vertical-align: middle;\n",
       "    }\n",
       "\n",
       "    .dataframe tbody tr th {\n",
       "        vertical-align: top;\n",
       "    }\n",
       "\n",
       "    .dataframe thead th {\n",
       "        text-align: right;\n",
       "    }\n",
       "</style>\n",
       "<table border=\"1\" class=\"dataframe\">\n",
       "  <thead>\n",
       "    <tr style=\"text-align: right;\">\n",
       "      <th></th>\n",
       "      <th>sepal_length</th>\n",
       "      <th>sepal_width</th>\n",
       "      <th>species</th>\n",
       "    </tr>\n",
       "  </thead>\n",
       "  <tbody>\n",
       "    <tr>\n",
       "      <th>0</th>\n",
       "      <td>7.0</td>\n",
       "      <td>3.2</td>\n",
       "      <td>versicolor</td>\n",
       "    </tr>\n",
       "    <tr>\n",
       "      <th>1</th>\n",
       "      <td>6.4</td>\n",
       "      <td>3.2</td>\n",
       "      <td>versicolor</td>\n",
       "    </tr>\n",
       "    <tr>\n",
       "      <th>2</th>\n",
       "      <td>6.9</td>\n",
       "      <td>3.1</td>\n",
       "      <td>versicolor</td>\n",
       "    </tr>\n",
       "    <tr>\n",
       "      <th>3</th>\n",
       "      <td>5.5</td>\n",
       "      <td>2.3</td>\n",
       "      <td>versicolor</td>\n",
       "    </tr>\n",
       "    <tr>\n",
       "      <th>4</th>\n",
       "      <td>6.5</td>\n",
       "      <td>2.8</td>\n",
       "      <td>versicolor</td>\n",
       "    </tr>\n",
       "    <tr>\n",
       "      <th>...</th>\n",
       "      <td>...</td>\n",
       "      <td>...</td>\n",
       "      <td>...</td>\n",
       "    </tr>\n",
       "    <tr>\n",
       "      <th>95</th>\n",
       "      <td>6.7</td>\n",
       "      <td>3.0</td>\n",
       "      <td>virginica</td>\n",
       "    </tr>\n",
       "    <tr>\n",
       "      <th>96</th>\n",
       "      <td>6.3</td>\n",
       "      <td>2.5</td>\n",
       "      <td>virginica</td>\n",
       "    </tr>\n",
       "    <tr>\n",
       "      <th>97</th>\n",
       "      <td>6.5</td>\n",
       "      <td>3.0</td>\n",
       "      <td>virginica</td>\n",
       "    </tr>\n",
       "    <tr>\n",
       "      <th>98</th>\n",
       "      <td>6.2</td>\n",
       "      <td>3.4</td>\n",
       "      <td>virginica</td>\n",
       "    </tr>\n",
       "    <tr>\n",
       "      <th>99</th>\n",
       "      <td>5.9</td>\n",
       "      <td>3.0</td>\n",
       "      <td>virginica</td>\n",
       "    </tr>\n",
       "  </tbody>\n",
       "</table>\n",
       "<p>100 rows × 3 columns</p>\n",
       "</div>"
      ],
      "text/plain": [
       "    sepal_length  sepal_width     species\n",
       "0            7.0          3.2  versicolor\n",
       "1            6.4          3.2  versicolor\n",
       "2            6.9          3.1  versicolor\n",
       "3            5.5          2.3  versicolor\n",
       "4            6.5          2.8  versicolor\n",
       "..           ...          ...         ...\n",
       "95           6.7          3.0   virginica\n",
       "96           6.3          2.5   virginica\n",
       "97           6.5          3.0   virginica\n",
       "98           6.2          3.4   virginica\n",
       "99           5.9          3.0   virginica\n",
       "\n",
       "[100 rows x 3 columns]"
      ]
     },
     "execution_count": 5,
     "metadata": {},
     "output_type": "execute_result"
    }
   ],
   "source": [
    "new_df"
   ]
  },
  {
   "cell_type": "code",
   "execution_count": 6,
   "metadata": {},
   "outputs": [],
   "source": [
    "# species_to_num = {species: idx for idx, species in enumerate(set(y))}\n",
    "species_to_num = {\"versicolor\": -1, \"virginica\": 1}\n",
    "num_to_species = {v: k for k, v in species_to_num.items()}\n"
   ]
  },
  {
   "cell_type": "code",
   "execution_count": 7,
   "metadata": {},
   "outputs": [],
   "source": [
    "new_df[\"species_num\"] = new_df[\"species\"].apply(lambda x: species_to_num.get(x))\n",
    "new_df = new_df.drop([\"species\"], axis=1)"
   ]
  },
  {
   "cell_type": "code",
   "execution_count": 8,
   "metadata": {},
   "outputs": [
    {
     "data": {
      "text/html": [
       "<div>\n",
       "<style scoped>\n",
       "    .dataframe tbody tr th:only-of-type {\n",
       "        vertical-align: middle;\n",
       "    }\n",
       "\n",
       "    .dataframe tbody tr th {\n",
       "        vertical-align: top;\n",
       "    }\n",
       "\n",
       "    .dataframe thead th {\n",
       "        text-align: right;\n",
       "    }\n",
       "</style>\n",
       "<table border=\"1\" class=\"dataframe\">\n",
       "  <thead>\n",
       "    <tr style=\"text-align: right;\">\n",
       "      <th></th>\n",
       "      <th>sepal_length</th>\n",
       "      <th>sepal_width</th>\n",
       "      <th>species_num</th>\n",
       "    </tr>\n",
       "  </thead>\n",
       "  <tbody>\n",
       "    <tr>\n",
       "      <th>0</th>\n",
       "      <td>7.0</td>\n",
       "      <td>3.2</td>\n",
       "      <td>-1</td>\n",
       "    </tr>\n",
       "    <tr>\n",
       "      <th>1</th>\n",
       "      <td>6.4</td>\n",
       "      <td>3.2</td>\n",
       "      <td>-1</td>\n",
       "    </tr>\n",
       "    <tr>\n",
       "      <th>2</th>\n",
       "      <td>6.9</td>\n",
       "      <td>3.1</td>\n",
       "      <td>-1</td>\n",
       "    </tr>\n",
       "    <tr>\n",
       "      <th>3</th>\n",
       "      <td>5.5</td>\n",
       "      <td>2.3</td>\n",
       "      <td>-1</td>\n",
       "    </tr>\n",
       "    <tr>\n",
       "      <th>4</th>\n",
       "      <td>6.5</td>\n",
       "      <td>2.8</td>\n",
       "      <td>-1</td>\n",
       "    </tr>\n",
       "    <tr>\n",
       "      <th>...</th>\n",
       "      <td>...</td>\n",
       "      <td>...</td>\n",
       "      <td>...</td>\n",
       "    </tr>\n",
       "    <tr>\n",
       "      <th>95</th>\n",
       "      <td>6.7</td>\n",
       "      <td>3.0</td>\n",
       "      <td>1</td>\n",
       "    </tr>\n",
       "    <tr>\n",
       "      <th>96</th>\n",
       "      <td>6.3</td>\n",
       "      <td>2.5</td>\n",
       "      <td>1</td>\n",
       "    </tr>\n",
       "    <tr>\n",
       "      <th>97</th>\n",
       "      <td>6.5</td>\n",
       "      <td>3.0</td>\n",
       "      <td>1</td>\n",
       "    </tr>\n",
       "    <tr>\n",
       "      <th>98</th>\n",
       "      <td>6.2</td>\n",
       "      <td>3.4</td>\n",
       "      <td>1</td>\n",
       "    </tr>\n",
       "    <tr>\n",
       "      <th>99</th>\n",
       "      <td>5.9</td>\n",
       "      <td>3.0</td>\n",
       "      <td>1</td>\n",
       "    </tr>\n",
       "  </tbody>\n",
       "</table>\n",
       "<p>100 rows × 3 columns</p>\n",
       "</div>"
      ],
      "text/plain": [
       "    sepal_length  sepal_width  species_num\n",
       "0            7.0          3.2           -1\n",
       "1            6.4          3.2           -1\n",
       "2            6.9          3.1           -1\n",
       "3            5.5          2.3           -1\n",
       "4            6.5          2.8           -1\n",
       "..           ...          ...          ...\n",
       "95           6.7          3.0            1\n",
       "96           6.3          2.5            1\n",
       "97           6.5          3.0            1\n",
       "98           6.2          3.4            1\n",
       "99           5.9          3.0            1\n",
       "\n",
       "[100 rows x 3 columns]"
      ]
     },
     "execution_count": 8,
     "metadata": {},
     "output_type": "execute_result"
    }
   ],
   "source": [
    "new_df"
   ]
  },
  {
   "cell_type": "code",
   "execution_count": 9,
   "metadata": {},
   "outputs": [],
   "source": [
    "X = new_df.drop([\"species_num\"], axis=1).values\n",
    "y = new_df[\"species_num\"].values"
   ]
  },
  {
   "cell_type": "code",
   "execution_count": 10,
   "metadata": {},
   "outputs": [],
   "source": [
    "X_train, X_test, y_train, y_test = train_test_split(X, y, shuffle=True)"
   ]
  },
  {
   "cell_type": "code",
   "execution_count": 11,
   "metadata": {},
   "outputs": [],
   "source": [
    "weights = np.random.randn(X_train.shape[1])\n",
    "bias = 0\n",
    "\n",
    "learning_rate = 0.011\n",
    "\n",
    "epochs = 500\n"
   ]
  },
  {
   "cell_type": "code",
   "execution_count": 12,
   "metadata": {},
   "outputs": [],
   "source": [
    "for epoch in range(epochs):\n",
    "\tfor i in range(X_train.shape[0]):\n",
    "\t\tlinear_output = np.dot(X_train[i], weights) + bias\n",
    "\t\ty_pred = np.where((linear_output > 0), 1, -1)\n",
    "\n",
    "\t\tif(y_train[i] != y_pred):\n",
    "\t\t\tweights += learning_rate * y_train[i] * X_train[i]\n",
    "\t\t\tbias += learning_rate * y_train[i]\n"
   ]
  },
  {
   "cell_type": "code",
   "execution_count": null,
   "metadata": {},
   "outputs": [],
   "source": [
    "correct_preds = 0\n",
    "\n",
    "for i in range(X_test.shape[0]):\n",
    "\tlinear_output = np.dot(X_test[i], weights) + bias\n",
    "\ty_pred = np.where((linear_output > 0), 1, -1)\n",
    "                     \n",
    "\tif(y_test[i] == y_pred):\n",
    "\t\tcorrect_preds += 1"
   ]
  },
  {
   "cell_type": "code",
   "execution_count": 14,
   "metadata": {},
   "outputs": [
    {
     "name": "stdout",
     "output_type": "stream",
     "text": [
      "Accuracy: 0.52\n"
     ]
    }
   ],
   "source": [
    "acc = correct_preds / X_test.shape[0]\n",
    "\n",
    "print(f\"Accuracy: {acc:0.2f}\")"
   ]
  },
  {
   "cell_type": "code",
   "execution_count": 15,
   "metadata": {},
   "outputs": [
    {
     "data": {
      "text/plain": [
       "array([[ 7. ,  3.2, -1. ],\n",
       "       [ 6.4,  3.2, -1. ],\n",
       "       [ 6.9,  3.1, -1. ],\n",
       "       [ 5.5,  2.3, -1. ],\n",
       "       [ 6.5,  2.8, -1. ],\n",
       "       [ 5.7,  2.8, -1. ],\n",
       "       [ 6.3,  3.3, -1. ],\n",
       "       [ 4.9,  2.4, -1. ],\n",
       "       [ 6.6,  2.9, -1. ],\n",
       "       [ 5.2,  2.7, -1. ],\n",
       "       [ 5. ,  2. , -1. ],\n",
       "       [ 5.9,  3. , -1. ],\n",
       "       [ 6. ,  2.2, -1. ],\n",
       "       [ 6.1,  2.9, -1. ],\n",
       "       [ 5.6,  2.9, -1. ],\n",
       "       [ 6.7,  3.1, -1. ],\n",
       "       [ 5.6,  3. , -1. ],\n",
       "       [ 5.8,  2.7, -1. ],\n",
       "       [ 6.2,  2.2, -1. ],\n",
       "       [ 5.6,  2.5, -1. ],\n",
       "       [ 5.9,  3.2, -1. ],\n",
       "       [ 6.1,  2.8, -1. ],\n",
       "       [ 6.3,  2.5, -1. ],\n",
       "       [ 6.1,  2.8, -1. ],\n",
       "       [ 6.4,  2.9, -1. ],\n",
       "       [ 6.6,  3. , -1. ],\n",
       "       [ 6.8,  2.8, -1. ],\n",
       "       [ 6.7,  3. , -1. ],\n",
       "       [ 6. ,  2.9, -1. ],\n",
       "       [ 5.7,  2.6, -1. ],\n",
       "       [ 5.5,  2.4, -1. ],\n",
       "       [ 5.5,  2.4, -1. ],\n",
       "       [ 5.8,  2.7, -1. ],\n",
       "       [ 6. ,  2.7, -1. ],\n",
       "       [ 5.4,  3. , -1. ],\n",
       "       [ 6. ,  3.4, -1. ],\n",
       "       [ 6.7,  3.1, -1. ],\n",
       "       [ 6.3,  2.3, -1. ],\n",
       "       [ 5.6,  3. , -1. ],\n",
       "       [ 5.5,  2.5, -1. ],\n",
       "       [ 5.5,  2.6, -1. ],\n",
       "       [ 6.1,  3. , -1. ],\n",
       "       [ 5.8,  2.6, -1. ],\n",
       "       [ 5. ,  2.3, -1. ],\n",
       "       [ 5.6,  2.7, -1. ],\n",
       "       [ 5.7,  3. , -1. ],\n",
       "       [ 5.7,  2.9, -1. ],\n",
       "       [ 6.2,  2.9, -1. ],\n",
       "       [ 5.1,  2.5, -1. ],\n",
       "       [ 5.7,  2.8, -1. ],\n",
       "       [ 6.3,  3.3,  1. ],\n",
       "       [ 5.8,  2.7,  1. ],\n",
       "       [ 7.1,  3. ,  1. ],\n",
       "       [ 6.3,  2.9,  1. ],\n",
       "       [ 6.5,  3. ,  1. ],\n",
       "       [ 7.6,  3. ,  1. ],\n",
       "       [ 4.9,  2.5,  1. ],\n",
       "       [ 7.3,  2.9,  1. ],\n",
       "       [ 6.7,  2.5,  1. ],\n",
       "       [ 7.2,  3.6,  1. ],\n",
       "       [ 6.5,  3.2,  1. ],\n",
       "       [ 6.4,  2.7,  1. ],\n",
       "       [ 6.8,  3. ,  1. ],\n",
       "       [ 5.7,  2.5,  1. ],\n",
       "       [ 5.8,  2.8,  1. ],\n",
       "       [ 6.4,  3.2,  1. ],\n",
       "       [ 6.5,  3. ,  1. ],\n",
       "       [ 7.7,  3.8,  1. ],\n",
       "       [ 7.7,  2.6,  1. ],\n",
       "       [ 6. ,  2.2,  1. ],\n",
       "       [ 6.9,  3.2,  1. ],\n",
       "       [ 5.6,  2.8,  1. ],\n",
       "       [ 7.7,  2.8,  1. ],\n",
       "       [ 6.3,  2.7,  1. ],\n",
       "       [ 6.7,  3.3,  1. ],\n",
       "       [ 7.2,  3.2,  1. ],\n",
       "       [ 6.2,  2.8,  1. ],\n",
       "       [ 6.1,  3. ,  1. ],\n",
       "       [ 6.4,  2.8,  1. ],\n",
       "       [ 7.2,  3. ,  1. ],\n",
       "       [ 7.4,  2.8,  1. ],\n",
       "       [ 7.9,  3.8,  1. ],\n",
       "       [ 6.4,  2.8,  1. ],\n",
       "       [ 6.3,  2.8,  1. ],\n",
       "       [ 6.1,  2.6,  1. ],\n",
       "       [ 7.7,  3. ,  1. ],\n",
       "       [ 6.3,  3.4,  1. ],\n",
       "       [ 6.4,  3.1,  1. ],\n",
       "       [ 6. ,  3. ,  1. ],\n",
       "       [ 6.9,  3.1,  1. ],\n",
       "       [ 6.7,  3.1,  1. ],\n",
       "       [ 6.9,  3.1,  1. ],\n",
       "       [ 5.8,  2.7,  1. ],\n",
       "       [ 6.8,  3.2,  1. ],\n",
       "       [ 6.7,  3.3,  1. ],\n",
       "       [ 6.7,  3. ,  1. ],\n",
       "       [ 6.3,  2.5,  1. ],\n",
       "       [ 6.5,  3. ,  1. ],\n",
       "       [ 6.2,  3.4,  1. ],\n",
       "       [ 5.9,  3. ,  1. ]])"
      ]
     },
     "execution_count": 15,
     "metadata": {},
     "output_type": "execute_result"
    }
   ],
   "source": [
    "new_df.values"
   ]
  },
  {
   "cell_type": "code",
   "execution_count": null,
   "metadata": {},
   "outputs": [],
   "source": []
  }
 ],
 "metadata": {
  "kernelspec": {
   "display_name": "base",
   "language": "python",
   "name": "python3"
  },
  "language_info": {
   "codemirror_mode": {
    "name": "ipython",
    "version": 3
   },
   "file_extension": ".py",
   "mimetype": "text/x-python",
   "name": "python",
   "nbconvert_exporter": "python",
   "pygments_lexer": "ipython3",
   "version": "3.10.9"
  }
 },
 "nbformat": 4,
 "nbformat_minor": 2
}
